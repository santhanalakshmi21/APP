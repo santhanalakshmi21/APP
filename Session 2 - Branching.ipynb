{
 "cells": [
  {
   "cell_type": "markdown",
   "metadata": {},
   "source": [
    "# Branching and Looping"
   ]
  },
  {
   "cell_type": "code",
   "execution_count": null,
   "metadata": {},
   "outputs": [],
   "source": [
    "#if Statement\n",
    "\n",
    "        Syntax :\n",
    "            if BOOLEAN EXPRESSION:\n",
    "                STATEMENTS\n",
    "                \n",
    "#if_Else statement:\n",
    "    \n",
    "        Syntax :\n",
    "            if BOOLEAN EXPRESSION:\n",
    "                STATEMENTS_1        # executed if condition evaluates to True\n",
    "            else:\n",
    "                STATEMENTS_2        # executed if condition evaluates to False\n",
    "                \n",
    "# Chanined Conditionals:\n",
    "    \n",
    "        Syntax :\n",
    "            if x < y:\n",
    "                STATEMENTS_A\n",
    "            elif x > y:\n",
    "                STATEMENTS_B\n",
    "            else:\n",
    "                STATEMENTS_C\n",
    "                \n",
    "# Nested ..if :\n",
    "\n",
    "        Syntax :\n",
    "            if expression1:\n",
    "                statement(s)\n",
    "                if expression2:\n",
    "                    statement(s)\n",
    "                elif expression3:\n",
    "                    statement(s)\n",
    "                else:\n",
    "                    statement(s)\n",
    "                elif expression4:\n",
    "                    statement(s)\n",
    "            else:\n",
    "                statement(s)\n",
    "                \n",
    "#Pass in if \n",
    "\n",
    "    if True:          # This is always true\n",
    "        pass          # so this is always executed, but it does nothing\n",
    "    else:\n",
    "        pass\n"
   ]
  },
  {
   "cell_type": "code",
   "execution_count": 1,
   "metadata": {},
   "outputs": [
    {
     "name": "stdout",
     "output_type": "stream",
     "text": [
      "no condition matched\n",
      "so a is 5 or less\n"
     ]
    }
   ],
   "source": [
    "#IF STATEMENT\n",
    "a = 5\n",
    "if a > 10:\n",
    "    print ('a is greater than 10')\n",
    "if a >= 15:\n",
    "        print ('a is also at least 15')\n",
    "elif a > 5:\n",
    "    print ('a is greater than 5 but not greater than 10')\n",
    "else:\n",
    "    print ('no condition matched')\n",
    "    print ('so a is 5 or less')"
   ]
  },
  {
   "cell_type": "code",
   "execution_count": null,
   "metadata": {},
   "outputs": [],
   "source": [
    "x=int(input(\"enter a number\"))\n",
    "if x==0 :\n",
    "    pass#do nothing\n",
    "elif x>23 or x%2 and x<5:\n",
    "    print(x)\n",
    "elif x%2==0:\n",
    "    print(\"x is even\")\n",
    "else:\n",
    "    print(x)"
   ]
  },
  {
   "cell_type": "markdown",
   "metadata": {},
   "source": [
    "# Challenge for you"
   ]
  },
  {
   "cell_type": "code",
   "execution_count": null,
   "metadata": {},
   "outputs": [],
   "source": [
    "#Python Program to get a number num and check whether num is divisible by 3.\n",
    "\n",
    "\n",
    "#Python Program to get a number num and check whether num is three digit number or not?.\n",
    "\n",
    "\n",
    "#Program to check if a number is divisible by 2 and/or 3.\n",
    "        #Divisible by 2 and 3\n",
    "        #Divisible by 2 but not by 3\n",
    "        #Divisible by 3 but not by 2'\n",
    "        #Not divisible by either 2 or 3"
   ]
  },
  {
   "cell_type": "code",
   "execution_count": null,
   "metadata": {},
   "outputs": [],
   "source": [
    "# Write a program that asks for a number and computes the\n",
    "# square of that number.\n",
    "# If the square is 100 or greater, print the squared value\n",
    "# and the word 'big'.\n",
    "# Otherwise if the square is between 50 and 99, print the\n",
    "# squared value and the word 'medium'.\n",
    "# Otherwise just print 'too small to bother with'.\n"
   ]
  },
  {
   "cell_type": "code",
   "execution_count": null,
   "metadata": {},
   "outputs": [],
   "source": []
  },
  {
   "cell_type": "code",
   "execution_count": null,
   "metadata": {},
   "outputs": [],
   "source": []
  }
 ],
 "metadata": {
  "kernelspec": {
   "display_name": "Python 3",
   "language": "python",
   "name": "python3"
  },
  "language_info": {
   "codemirror_mode": {
    "name": "ipython",
    "version": 3
   },
   "file_extension": ".py",
   "mimetype": "text/x-python",
   "name": "python",
   "nbconvert_exporter": "python",
   "pygments_lexer": "ipython3",
   "version": "3.7.4"
  }
 },
 "nbformat": 4,
 "nbformat_minor": 2
}
