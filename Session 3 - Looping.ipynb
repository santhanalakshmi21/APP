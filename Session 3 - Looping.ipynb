{
 "cells": [
  {
   "cell_type": "markdown",
   "metadata": {},
   "source": [
    "# Looping statements"
   ]
  },
  {
   "cell_type": "code",
   "execution_count": null,
   "metadata": {},
   "outputs": [],
   "source": [
    "# for loop:\n",
    "\n",
    "        Syntax :\n",
    "             \n",
    "            for item in sequence:\n",
    "                statements(s)\n",
    "                \n",
    "# Nested For loop:\n",
    "\n",
    "        Syntax :\n",
    "        \n",
    "            for iterator_var in sequence:\n",
    "                for iterator_var in sequence:\n",
    "                    statements(s)\n",
    "                    statements(s)\n",
    "                    \n",
    "# for loop with range :\n",
    "\n",
    "        Syntax:\n",
    "            \n",
    "            for x in range(start):\n",
    "                print(x)\n",
    "\n",
    "            \n",
    "            for x in range(start, stop):\n",
    "                print(x)\n",
    "\n",
    "            \n",
    "            for x in range(start, end , iteration):\n",
    "                print(x)\n",
    "        \n",
    "# While Loop:\n",
    "\n",
    "        Syntax :\n",
    "            \n",
    "            while expression:\n",
    "                statement(s)\n",
    "\n",
    "\n",
    "# while loop with else\n",
    "\n",
    "\n",
    "while condition:\n",
    "    handle_true()\n",
    "else:\n",
    "    # condition is false now, handle and go on with the rest of the program\n",
    "    handle_false()\n",
    "\n",
    "# else statement for loop\n",
    "\n",
    "# break \n",
    "\n",
    "# continue\n",
    "\n",
    "# pass\n"
   ]
  },
  {
   "cell_type": "code",
   "execution_count": 1,
   "metadata": {},
   "outputs": [
    {
     "name": "stdout",
     "output_type": "stream",
     "text": [
      "3\n",
      "2\n",
      "1\n",
      "Reached 0\n"
     ]
    }
   ],
   "source": [
    "a=3\n",
    "while(a>0):\n",
    "    print(a)\n",
    "    a-=1\n",
    "else:\n",
    "    print(\"Reached 0\")"
   ]
  },
  {
   "cell_type": "code",
   "execution_count": null,
   "metadata": {},
   "outputs": [],
   "source": [
    "for i in 'break':\n",
    "    print(i)\n",
    "    \n",
    "for j in range(5):\n",
    "    print(j)\n",
    "\n"
   ]
  },
  {
   "cell_type": "code",
   "execution_count": null,
   "metadata": {},
   "outputs": [],
   "source": [
    "# Now try range function in the following format\n",
    "\n",
    "\n",
    "            for x in range(start, stop):\n",
    "                print(x)\n",
    "\n",
    "            \n",
    "            for x in range(start, end , iteration):\n",
    "                print(x)"
   ]
  },
  {
   "cell_type": "code",
   "execution_count": null,
   "metadata": {},
   "outputs": [],
   "source": [
    "count = 0\n",
    "while count < 5:\n",
    "    print(count)\n",
    "    count += 1  # This is the same as count = count + 1"
   ]
  },
  {
   "cell_type": "code",
   "execution_count": 4,
   "metadata": {},
   "outputs": [
    {
     "name": "stdout",
     "output_type": "stream",
     "text": [
      "1\n",
      "2\n",
      "3\n"
     ]
    }
   ],
   "source": [
    "\n",
    "# Do while Demonstration\n",
    "\n",
    "i = 1\n",
    "\n",
    "while True:\n",
    "    print(i)\n",
    "    i = i + 1\n",
    "    if(i > 3):\n",
    "        break"
   ]
  },
  {
   "cell_type": "code",
   "execution_count": null,
   "metadata": {},
   "outputs": [],
   "source": [
    "# Prints out 0,1,2,3,4\n",
    "# Do while example\n",
    "count = 0\n",
    "while True:\n",
    "    print(count)\n",
    "    count += 1\n",
    "    if count >= 5:\n",
    "        break\n"
   ]
  },
  {
   "cell_type": "code",
   "execution_count": null,
   "metadata": {},
   "outputs": [],
   "source": [
    "# Prints out only odd numbers - 1,3,5,7,9\n",
    "for x in range(10):\n",
    "    # Check if x is even\n",
    "    if x % 2 == 0:\n",
    "        continue\n",
    "    print(x)"
   ]
  },
  {
   "cell_type": "code",
   "execution_count": 2,
   "metadata": {},
   "outputs": [
    {
     "name": "stdout",
     "output_type": "stream",
     "text": [
      "* \n",
      "* \n",
      "* \n",
      "* \n",
      "* \n",
      "* \n",
      "* \n",
      "* \n",
      "* \n",
      "* \n",
      "* \n",
      "* \n",
      "* \n",
      "* \n",
      "* \n"
     ]
    }
   ],
   "source": [
    "for i in range(1,6):\n",
    "    for j in range(i):\n",
    "        print(\"*\",end=' ')\n",
    "        print(\"\\n\",end='')"
   ]
  },
  {
   "cell_type": "code",
   "execution_count": null,
   "metadata": {},
   "outputs": [],
   "source": [
    "a=int(input())\n",
    "for j in range(a):\n",
    "    print(j)"
   ]
  },
  {
   "cell_type": "code",
   "execution_count": null,
   "metadata": {},
   "outputs": [],
   "source": [
    "while True:\n",
    "    answer = input(\"Start typing...\")\n",
    "    if answer == \"quit\":\n",
    "        break\n",
    "    print (\"Your answer was\", answer)"
   ]
  },
  {
   "cell_type": "code",
   "execution_count": 1,
   "metadata": {},
   "outputs": [
    {
     "name": "stdout",
     "output_type": "stream",
     "text": [
      "0\n",
      "1\n",
      "2\n",
      "3\n",
      "4\n",
      "count value reached 5\n",
      "1\n",
      "2\n",
      "3\n",
      "4\n"
     ]
    }
   ],
   "source": [
    "count=0\n",
    "while(count<5):\n",
    "    print(count)\n",
    "    count +=1\n",
    "else:\n",
    "    print(\"count value reached %d\" %(count))\n",
    "\n",
    "# Prints out 1,2,3,4\n",
    "for i in range(1, 10):\n",
    "    if(i%5==0):\n",
    "        break\n",
    "    print(i)\n",
    "else:\n",
    "    print(\"this is not printed because for loop is terminated because of break but not due to fail in condition\")"
   ]
  },
  {
   "cell_type": "code",
   "execution_count": null,
   "metadata": {},
   "outputs": [],
   "source": [
    "for x in range(1, 11):\n",
    "    for y in range(1, 11):\n",
    "        print ('%d * %d = %d' % (x, y, x*y))"
   ]
  },
  {
   "cell_type": "markdown",
   "metadata": {},
   "source": [
    "# Challenge for you"
   ]
  },
  {
   "cell_type": "code",
   "execution_count": null,
   "metadata": {},
   "outputs": [],
   "source": [
    "# Prints out 0,1,2,3,4 and then it prints \"count value reached 5\" using for and while\n",
    "\n",
    "# Prints all letters except 'e' and 's' from given input : \" WestBestBestWest\"\n",
    "\n",
    "# break the loop as soon it sees 'e' or 's' : from given input : \" WestBestBestWest\"\n",
    "\n",
    "\n",
    "Average :\n",
    "    \n",
    "    \n",
    "1. Write a python program to print the square of all numbers from 0 to 10\n",
    "\n",
    "2. Write a python program to find the sum of all even numbers from 0 to 10\n",
    "\n",
    "3. Write a python program to read three numbers (a,b,c) and check how many numbers between ‘a’ and ‘b’ are divisible by ‘c’"
   ]
  }
 ],
 "metadata": {
  "kernelspec": {
   "display_name": "Python 3",
   "language": "python",
   "name": "python3"
  },
  "language_info": {
   "codemirror_mode": {
    "name": "ipython",
    "version": 3
   },
   "file_extension": ".py",
   "mimetype": "text/x-python",
   "name": "python",
   "nbconvert_exporter": "python",
   "pygments_lexer": "ipython3",
   "version": "3.7.4"
  }
 },
 "nbformat": 4,
 "nbformat_minor": 2
}
