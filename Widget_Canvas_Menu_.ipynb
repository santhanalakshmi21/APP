{
 "cells": [
  {
   "cell_type": "code",
   "execution_count": null,
   "metadata": {},
   "outputs": [],
   "source": [
    "from tkinter import *\n",
    "master = Tk()\n",
    "\n",
    "canvas_width = 80\n",
    "canvas_height = 40\n",
    "w = Canvas(master, \n",
    "           width=canvas_width,\n",
    "           height=canvas_height)\n",
    "w.pack()\n",
    "\n",
    "y = int(canvas_height / 2)\n",
    "w.create_line(0, y, canvas_width, y, fill=\"#476042\")\n",
    "\n",
    "\n",
    "mainloop()"
   ]
  },
  {
   "cell_type": "code",
   "execution_count": null,
   "metadata": {
    "jupyter": {
     "source_hidden": true
    }
   },
   "outputs": [],
   "source": [
    "from tkinter import *\n",
    "\n",
    "master = Tk()\n",
    "\n",
    "w = Canvas(master, width=200, height=100)\n",
    "w.pack()\n",
    "\n",
    "w.create_rectangle(50, 20, 150, 80, fill=\"#476042\")\n",
    "w.create_rectangle(65, 35, 135, 65, fill=\"yellow\")\n",
    "w.create_line(0, 0, 50, 20, fill=\"#476042\", width=3)\n",
    "w.create_line(0, 100, 50, 80, fill=\"#476042\", width=3)\n",
    "w.create_line(150,20, 200, 0, fill=\"#476042\", width=3)\n",
    "w.create_line(150, 80, 200, 100, fill=\"#476042\", width=3)\n",
    "\n",
    "mainloop()"
   ]
  },
  {
   "cell_type": "code",
   "execution_count": null,
   "metadata": {
    "jupyter": {
     "source_hidden": true
    }
   },
   "outputs": [],
   "source": [
    "from tkinter import *\n",
    "\n",
    "master = Tk()\n",
    "\n",
    "w = Canvas(master, width=200, height=100)\n",
    "w.pack()\n",
    "\n",
    "w.create_rectangle(50, 20, 150, 80, fill=\"#476042\")\n",
    "w.create_rectangle(65, 35, 135, 65, fill=\"yellow\")\n",
    "w.create_line(0, 0, 50, 20, fill=\"#476042\", width=3)\n",
    "w.create_line(0, 100, 50, 80, fill=\"#476042\", width=3)\n",
    "w.create_line(150,20, 200, 0, fill=\"#476042\", width=3)\n",
    "w.create_line(150, 80, 200, 100, fill=\"#476042\", width=3)\n",
    "\n",
    "mainloop()"
   ]
  },
  {
   "cell_type": "code",
   "execution_count": null,
   "metadata": {
    "jupyter": {
     "source_hidden": true
    }
   },
   "outputs": [],
   "source": [
    "from tkinter import *\n",
    "#from tkinter import messagebox\n",
    "top = Tk()\n",
    "C = Canvas(top, bg = \"blue\", height = 250, width = 300)\n",
    "coord = 10, 50, 240, 210\n",
    "arc = C.create_arc(coord, start = 0, extent = 150, fill = \"red\")\n",
    "line = C.create_line(10,10,200,200,fill = 'white')\n",
    "C.pack()\n",
    "top.mainloop()"
   ]
  },
  {
   "cell_type": "code",
   "execution_count": null,
   "metadata": {
    "jupyter": {
     "source_hidden": true
    }
   },
   "outputs": [],
   "source": [
    "from tkinter import *\n",
    "def choice():\n",
    "    if(radio.get()==1):\n",
    "        root.configure(background='red')\n",
    "    elif(radio.get()==2):\n",
    "        root.configure(background='blue')\n",
    "    elif(radio.get()==3):\n",
    "        root.configure(background='green')\n",
    "\n",
    "\n",
    "root= Tk()\n",
    "root.geometry(\"200x200\")\n",
    "radio=IntVar()\n",
    "rb1=Radiobutton(root,text='Red', variable=radio,width=25,value=1, \n",
    "                command=choice)\n",
    "rb1.grid(row=0)\n",
    "rb2=Radiobutton(root,text='Blue', variable=radio,width=25,value=2, \n",
    "                command=choice)\n",
    "rb2.grid(row=1)\n",
    "rb3=Radiobutton(root,text='Green', variable=radio,width=25,value=3, \n",
    "                command=choice)\n",
    "rb3.grid(row=3)\n",
    "root.mainloop() \n",
    "\n"
   ]
  },
  {
   "cell_type": "code",
   "execution_count": null,
   "metadata": {
    "jupyter": {
     "source_hidden": true
    }
   },
   "outputs": [],
   "source": [
    "# Importing Tkinter module \n",
    "from tkinter import *\n",
    "# from tkinter.ttk import * \n",
    "\n",
    "# Creating master Tkinter window \n",
    "master = Tk() \n",
    "master.geometry(\"175x175\") \n",
    "\n",
    "# Tkinter string variable \n",
    "# able to store any string value \n",
    "v = StringVar(master, \"1\") \n",
    "\n",
    "# Dictionary to create multiple buttons \n",
    "values = {\"RadioButton 1\" : \"1\", \n",
    "\t\t\"RadioButton 2\" : \"2\", \n",
    "\t\t\"RadioButton 3\" : \"3\", \n",
    "\t\t\"RadioButton 4\" : \"4\", \n",
    "\t\t\"RadioButton 5\" : \"5\"} \n",
    "\n",
    "# Loop is used to create multiple Radiobuttons \n",
    "# rather than creating each button separately \n",
    "for (text, value) in values.items(): \n",
    "\tRadiobutton(master, text = text, variable = v, \n",
    "\t\t\t\tvalue = value, indicator = 0, \n",
    "\t\t\t\tbackground = \"light blue\").pack(fill = X, ipady = 5) \n",
    "\n",
    "# Infinite loop can be terminated by \n",
    "# keyboard or mouse interrupt \n",
    "# or by any predefined function (destroy()) \n",
    "mainloop() \n"
   ]
  },
  {
   "cell_type": "code",
   "execution_count": null,
   "metadata": {},
   "outputs": [],
   "source": [
    "from tkinter import *\n",
    "from tkinter import messagebox\n",
    "\n",
    "root= Tk()\n",
    "root.title('Scale Demo')\n",
    "root.geometry(\"200x200\")\n",
    "def slide():\n",
    "    msg = messagebox.showinfo( \"GUI Event Demo\",v.get())\n",
    "v = DoubleVar()  \n",
    "scale = Scale( root, variable = v, from_ = 1, to = 50, orient = HORIZONTAL)  \n",
    "scale.pack(anchor=CENTER)\n",
    "btn = Button(root, text=\"Value\", command=slide)  \n",
    "btn.pack(anchor=CENTER)  \n",
    "root.mainloop() \n"
   ]
  },
  {
   "cell_type": "code",
   "execution_count": null,
   "metadata": {},
   "outputs": [],
   "source": [
    "from tkinter import *\n",
    "\n",
    "def sel():\n",
    "   selection = \"Va \" + str(var.get())\n",
    "   label.config(text = selection)\n",
    "\n",
    "root = Tk()\n",
    "var = DoubleVar()\n",
    "scale = Scale( root, variable = var )\n",
    "scale.pack(anchor=CENTER)\n",
    "\n",
    "button = Button(root, text=\"Get Scale Value\", command=sel)\n",
    "button.pack(anchor=CENTER)\n",
    "\n",
    "label = Label(root)\n",
    "label.pack()\n",
    "\n",
    "root.mainloop()"
   ]
  },
  {
   "cell_type": "code",
   "execution_count": null,
   "metadata": {},
   "outputs": [],
   "source": [
    "from tkinter import *\n",
    "\n",
    "master = Tk()\n",
    "\n",
    "w = Spinbox(master, from_=0, to=10)\n",
    "w.pack()\n",
    "\n",
    "mainloop()"
   ]
  },
  {
   "cell_type": "code",
   "execution_count": null,
   "metadata": {},
   "outputs": [],
   "source": [
    "from tkinter import *\n",
    "from tkinter import messagebox\n",
    "\n",
    "root= Tk()\n",
    "root.title('Scale Demo')\n",
    "root.geometry(\"200x200\")\n",
    "\n",
    "def slide():\n",
    "    msg = messagebox.showinfo( \"SpinBox Event Demo\",spin.get())\n",
    "  \n",
    "spin = Spinbox(root, from_= 0, to = 25)  \n",
    "spin.pack(anchor=CENTER)  \n",
    "btn = Button(root, text=\"Value\", command=slide)  \n",
    "btn.pack(anchor=CENTER)  \n",
    "root.mainloop() \n"
   ]
  },
  {
   "cell_type": "code",
   "execution_count": null,
   "metadata": {},
   "outputs": [],
   "source": [
    "\n",
    "from tkinter import *\n",
    "#from tkFileDialog   import askopenfilename\n",
    "\n",
    "def NewFile():\n",
    "    print (\"New File!\")\n",
    "def OpenFile():\n",
    "    name = askopenfilename()\n",
    "    print (name)\n",
    "def About():\n",
    "    print (\"This is a simple example of a menu\")\n",
    "    \n",
    "root = Tk()\n",
    "menu = Menu(root)\n",
    "root.config(menu=menu)\n",
    "filemenu = Menu(menu)\n",
    "menu.add_cascade(label=\"File\", menu=filemenu)\n",
    "filemenu.add_command(label=\"New\", command=NewFile)\n",
    "filemenu.add_command(label=\"Open...\", command=OpenFile)\n",
    "filemenu.add_separator()\n",
    "filemenu.add_command(label=\"Exit\", command=root.quit)\n",
    "\n",
    "helpmenu = Menu(menu)\n",
    "menu.add_cascade(label=\"Help\", menu=helpmenu)\n",
    "helpmenu.add_command(label=\"About...\", command=About)\n",
    "\n",
    "mainloop()"
   ]
  },
  {
   "cell_type": "code",
   "execution_count": null,
   "metadata": {},
   "outputs": [],
   "source": [
    "\n",
    "from tkinter import *\n",
    "from tkinter import messagebox\n",
    "root= Tk()\n",
    "root.title('Scale Demo')\n",
    "root.geometry(\"200x200\")\n",
    "menubutton = Menubutton(root, text = \"File\", relief = FLAT)  \n",
    "menubutton.grid()  \n",
    "menubutton.menu = Menu(menubutton)  \n",
    "menubutton[\"menu\"]=menubutton.menu  \n",
    "menubutton.menu.add_checkbutton(label = \"New\", variable=IntVar(),command=root.quit)  \n",
    "menubutton.menu.add_checkbutton(label = \"Open\", variable = IntVar())  \n",
    "menubutton.pack()  \n",
    "root.mainloop() \n"
   ]
  },
  {
   "cell_type": "code",
   "execution_count": null,
   "metadata": {},
   "outputs": [],
   "source": [
    "from tkinter import *\n",
    "def donothing():\n",
    "   filewin = Toplevel(root)\n",
    "   button = Button(filewin, text=\"Do nothing button\")\n",
    "   button.pack()\n",
    "   \n",
    "root = Tk()\n",
    "menubar = Menu(root)\n",
    "filemenu = Menu(menubar, tearoff = 0)\n",
    "filemenu.add_command(label=\"New\", command = donothing)\n",
    "filemenu.add_command(label = \"Open\", command = donothing)\n",
    "filemenu.add_command(label = \"Save\", command = donothing)\n",
    "filemenu.add_command(label = \"Save as...\", command = donothing)\n",
    "filemenu.add_command(label = \"Close\", command = donothing)\n",
    "\n",
    "filemenu.add_separator()\n",
    "\n",
    "filemenu.add_command(label = \"Exit\", command = root.quit)\n",
    "menubar.add_cascade(label = \"File\", menu = filemenu)\n",
    "editmenu = Menu(menubar, tearoff=0)\n",
    "editmenu.add_command(label = \"Undo\", command = donothing)\n",
    "\n",
    "editmenu.add_separator()\n",
    "\n",
    "editmenu.add_command(label = \"Cut\", command = donothing)\n",
    "editmenu.add_command(label = \"Copy\", command = donothing)\n",
    "editmenu.add_command(label = \"Paste\", command = donothing)\n",
    "editmenu.add_command(label = \"Delete\", command = donothing)\n",
    "editmenu.add_command(label = \"Select All\", command = donothing)\n",
    "\n",
    "menubar.add_cascade(label = \"Edit\", menu = editmenu)\n",
    "helpmenu = Menu(menubar, tearoff=0)\n",
    "helpmenu.add_command(label = \"Help Index\", command = donothing)\n",
    "helpmenu.add_command(label = \"About...\", command = donothing)\n",
    "menubar.add_cascade(label = \"Help\", menu = helpmenu)\n",
    "\n",
    "root.config(menu = menubar)\n",
    "root.mainloop()"
   ]
  },
  {
   "cell_type": "code",
   "execution_count": null,
   "metadata": {},
   "outputs": [],
   "source": [
    "from tkinter import *\n",
    "\n",
    "root = Tk()\n",
    "\n",
    "def hello():\n",
    "    print (\"hello!\")\n",
    "\n",
    "menubar = Menu(root)\n",
    "\n",
    "# create a pulldown menu, and add it to the menu bar\n",
    "filemenu = Menu(menubar, tearoff=0)\n",
    "filemenu.add_command(label=\"Open\", command=hello)\n",
    "filemenu.add_command(label=\"Save\", command=hello)\n",
    "filemenu.add_separator()\n",
    "filemenu.add_command(label=\"Exit\", command=root.quit)\n",
    "menubar.add_cascade(label=\"File\", menu=filemenu)\n",
    "\n",
    "# create more pulldown menus\n",
    "editmenu = Menu(menubar, tearoff=0)\n",
    "editmenu.add_command(label=\"Cut\", command=hello)\n",
    "editmenu.add_command(label=\"Copy\", command=hello)\n",
    "editmenu.add_command(label=\"Paste\", command=hello)\n",
    "menubar.add_cascade(label=\"Edit\", menu=editmenu)\n",
    "\n",
    "helpmenu = Menu(menubar, tearoff=0)\n",
    "helpmenu.add_command(label=\"About\", command=hello)\n",
    "menubar.add_cascade(label=\"Help\", menu=helpmenu)\n",
    "\n",
    "# display the menu\n",
    "root.config(menu=menubar)\n"
   ]
  },
  {
   "cell_type": "code",
   "execution_count": null,
   "metadata": {},
   "outputs": [],
   "source": []
  }
 ],
 "metadata": {
  "kernelspec": {
   "display_name": "Python 3",
   "language": "python",
   "name": "python3"
  },
  "language_info": {
   "codemirror_mode": {
    "name": "ipython",
    "version": 3
   },
   "file_extension": ".py",
   "mimetype": "text/x-python",
   "name": "python",
   "nbconvert_exporter": "python",
   "pygments_lexer": "ipython3",
   "version": "3.7.4"
  }
 },
 "nbformat": 4,
 "nbformat_minor": 4
}
