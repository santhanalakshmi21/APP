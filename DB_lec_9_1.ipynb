{
 "cells": [
  {
   "cell_type": "code",
   "execution_count": null,
   "metadata": {},
   "outputs": [],
   "source": [
    "# Connection to database\n",
    "\n",
    "sqlite3.connect(database [,timeout ,other optional arguments])\n",
    "\n",
    "\n",
    "\n",
    "This API opens a connection to the SQLite database file. \n",
    "\n",
    "You can use \":memory:\" to open a database connection to a database that resides in RAM instead of on disk. \n",
    "\n",
    "# COnnection using cursor to fetch\n",
    "connection.cursor([cursorClass])\n",
    "\n",
    "1.Declare a cursor that defines a result set. \n",
    "2.Open the cursor to establish the result set. \n",
    "3.Fetch the data into local variables as needed from the cursor, one row at a time. \n",
    "4.Close the cursor when don\n",
    "\n",
    "# Execute - Using cursor\n",
    "cursor.execute(sql [, optional parameters])\n",
    "\n",
    "The SQL statement may be parameterized (i. e. placeholders instead of SQL literals). \n",
    "The sqlite3 module supports two kinds of placeholders: \n",
    "    question marks(??) and \n",
    "    named placeholders (named style).\n",
    "    \n",
    " # Execute  - directly using connection \n",
    "connection.execute(sql [, optional parameters])\n",
    "\n",
    "# Execute many\n",
    "\n",
    "cursor.executemany(sql, seq_of_parameters)\n",
    "connection.executemany(sql[, parameters])\n",
    "\n",
    "#Script\n",
    "cursor.executescript(sql_script)\n",
    "connection.executescript(sql_script)\n",
    "\n",
    "# only using connection\n",
    "connection.total_changes()\n",
    "connection.commit()\n",
    "connection.rollback()\n",
    "connection.close()\n",
    "\n",
    "cursor.fetchone()\n",
    "cursor.fetchmany([size = cursor.arraysize])\n",
    "cursor.fetchall()"
   ]
  },
  {
   "cell_type": "code",
   "execution_count": null,
   "metadata": {},
   "outputs": [],
   "source": [
    "import sqlite3"
   ]
  },
  {
   "cell_type": "code",
   "execution_count": null,
   "metadata": {},
   "outputs": [],
   "source": [
    "conn = sqlite3.connect('dbase2')"
   ]
  },
  {
   "cell_type": "code",
   "execution_count": null,
   "metadata": {},
   "outputs": [],
   "source": [
    "curs = conn.cursor()#a cursor for submitting SQL statements to the database server"
   ]
  },
  {
   "cell_type": "code",
   "execution_count": null,
   "metadata": {},
   "outputs": [],
   "source": [
    "tblcmd = 'create table stud (name char(30), review char(10), Status char(10))'"
   ]
  },
  {
   "cell_type": "code",
   "execution_count": null,
   "metadata": {},
   "outputs": [],
   "source": [
    "curs.execute(tblcmd)"
   ]
  },
  {
   "cell_type": "code",
   "execution_count": null,
   "metadata": {},
   "outputs": [],
   "source": [
    "curs.execute('insert into stud values(\"Bob\", \"yes\", \"accepted\")')"
   ]
  },
  {
   "cell_type": "code",
   "execution_count": null,
   "metadata": {},
   "outputs": [],
   "source": [
    "curs.rowcount"
   ]
  },
  {
   "cell_type": "code",
   "execution_count": null,
   "metadata": {},
   "outputs": [],
   "source": [
    "conn.commit()"
   ]
  },
  {
   "cell_type": "code",
   "execution_count": null,
   "metadata": {},
   "outputs": [],
   "source": [
    "curs.execute('select * from stud')"
   ]
  },
  {
   "cell_type": "code",
   "execution_count": null,
   "metadata": {},
   "outputs": [],
   "source": [
    "for row in curs.fetchall():\n",
    "    print (row)"
   ]
  },
  {
   "cell_type": "code",
   "execution_count": null,
   "metadata": {},
   "outputs": [],
   "source": [
    "#parameterized query\n",
    "curs.execute('insert into stud values (?,?,?)',('Cathy','done','accepted'))\n"
   ]
  },
  {
   "cell_type": "code",
   "execution_count": null,
   "metadata": {},
   "outputs": [],
   "source": [
    "#Execute Many\n",
    "curs.executemany('insert into stud values(?,?,?)',\n",
    "                 [('Raj',\"notdone\",'nil'),('Maria',\"Ram\", 'accepted')])\n"
   ]
  },
  {
   "cell_type": "code",
   "execution_count": null,
   "metadata": {},
   "outputs": [],
   "source": [
    "rows = [('John',\"done\",'rejected'),('silvia',\"notdone\",'nil')]\n",
    "for row in rows:\n",
    "    curs.execute('insert into stud values(?,?,?)', row)\n"
   ]
  },
  {
   "cell_type": "code",
   "execution_count": null,
   "metadata": {},
   "outputs": [],
   "source": [
    "curs.execute('select * from stud')\n",
    "curs.fetchall()"
   ]
  },
  {
   "cell_type": "code",
   "execution_count": null,
   "metadata": {},
   "outputs": [],
   "source": [
    "curs.execute('select * from stud')\n",
    "for row in curs.fetchall():\n",
    "    print(row)"
   ]
  },
  {
   "cell_type": "code",
   "execution_count": null,
   "metadata": {},
   "outputs": [],
   "source": [
    "curs.execute('select * from stud')\n",
    "names = [rec[0] for rec in curs.fetchall()]\n",
    "names"
   ]
  },
  {
   "cell_type": "code",
   "execution_count": null,
   "metadata": {},
   "outputs": [],
   "source": [
    "curs.execute('select name, status from stud')\n",
    "for (name,Status) in curs.fetchall():\n",
    "    print (name,':',Status )\n"
   ]
  },
  {
   "cell_type": "code",
   "execution_count": 1,
   "metadata": {},
   "outputs": [
    {
     "name": "stdout",
     "output_type": "stream",
     "text": [
      "[['Hi', ' hello', ' hey'], ['1', '2', '3'], ['A', 'b', 'c']]\n",
      "[('Hi', ' hello', ' hey'), ('1', '2', '3'), ('A', 'b', 'c')]\n"
     ]
    }
   ],
   "source": [
    "import sqlite3\n",
    "conn = sqlite3.connect('dbase1')\n",
    "curs = conn.cursor()\n",
    "curs.execute('create table detai (name char(30), age char(10), native char(10))')\n",
    "file = open('data.txt')\n",
    "rows = [line.rstrip().split(',') for line in file]\n",
    "print(rows)\n",
    "for rec in rows:\n",
    "    curs.execute('insert into detai values (?, ?, ?)', rec)\n",
    "conn.commit()\n",
    "curs.execute('select * from detai')\n",
    "print(curs.fetchall())\n",
    "conn.close() # close, __del__ call rollback if changes not committed yet\n"
   ]
  },
  {
   "cell_type": "code",
   "execution_count": null,
   "metadata": {},
   "outputs": [],
   "source": [
    "#Select with where clause\n",
    "curs.execute('select * from student')\n",
    "query = 'select name from student where status= ? order by name'\n",
    "curs.execute(query,['rejected'])\n",
    "for row in curs.fetchall():\n",
    "    print (row)\n"
   ]
  },
  {
   "cell_type": "code",
   "execution_count": null,
   "metadata": {},
   "outputs": [],
   "source": [
    "curs.execute('update student set status=? where name = ?', ['rejected', 'Cathy'])\n",
    "\n"
   ]
  },
  {
   "cell_type": "code",
   "execution_count": null,
   "metadata": {},
   "outputs": [],
   "source": [
    "curs.rowcount"
   ]
  },
  {
   "cell_type": "code",
   "execution_count": null,
   "metadata": {},
   "outputs": [],
   "source": [
    "curs.execute(\"delete from student where name='Cathy'\")\n",
    "\n"
   ]
  },
  {
   "cell_type": "code",
   "execution_count": null,
   "metadata": {},
   "outputs": [],
   "source": [
    "cmd = \"CREATE TABLE PERSONS (P_Id int NOT NULL PRIMARY KEY, LastName char(40), FirstName char(40), Address char(40))\"\n",
    "curs.execute(cmd)"
   ]
  },
  {
   "cell_type": "code",
   "execution_count": null,
   "metadata": {},
   "outputs": [],
   "source": [
    "cmd = \"CREATE TABLE Orders(O_Id int NOT NULL PRIMARY KEY,OrderNo int NOT NULL, P_Id int, FOREIGN KEY(P_Id) REFERENCES Persons(P_Id))\"\n",
    "curs.execute(cmd)"
   ]
  },
  {
   "cell_type": "code",
   "execution_count": null,
   "metadata": {},
   "outputs": [],
   "source": [
    "#fetchone will fetch one row\n",
    "#fetchmanycall returns a sequence of rows from the result, but not the entire table"
   ]
  },
  {
   "cell_type": "code",
   "execution_count": null,
   "metadata": {},
   "outputs": [],
   "source": [
    "import way2sms\n",
    "q=way2sms.sms('7598332110','2900')\n",
    "q.send('9600070911','hi')\n",
    "n=q.msgSentToday()\n",
    "q.logout()\n",
    "print \"no of sms sent today\",n"
   ]
  },
  {
   "cell_type": "code",
   "execution_count": null,
   "metadata": {},
   "outputs": [],
   "source": [
    "tblcm = 'create table studs (name char(30), mark int(4))'\n",
    "curs.execute(tblcm)"
   ]
  },
  {
   "cell_type": "code",
   "execution_count": null,
   "metadata": {},
   "outputs": [],
   "source": [
    "curs.execute('insert into studs values(?, ?)', ('Bob', 23))"
   ]
  },
  {
   "cell_type": "code",
   "execution_count": null,
   "metadata": {},
   "outputs": [],
   "source": [
    "query = 'select mark from stud where name= ?'\n",
    "curs.execute(query,['Bob'])\n",
    "for row in curs.fetchall():\n",
    "    print row[0]+1\n"
   ]
  },
  {
   "cell_type": "code",
   "execution_count": null,
   "metadata": {},
   "outputs": [],
   "source": []
  },
  {
   "cell_type": "code",
   "execution_count": null,
   "metadata": {},
   "outputs": [],
   "source": []
  }
 ],
 "metadata": {
  "anaconda-cloud": {},
  "kernelspec": {
   "display_name": "Python 3",
   "language": "python",
   "name": "python3"
  },
  "language_info": {
   "codemirror_mode": {
    "name": "ipython",
    "version": 3
   },
   "file_extension": ".py",
   "mimetype": "text/x-python",
   "name": "python",
   "nbconvert_exporter": "python",
   "pygments_lexer": "ipython3",
   "version": "3.7.4"
  }
 },
 "nbformat": 4,
 "nbformat_minor": 1
}
