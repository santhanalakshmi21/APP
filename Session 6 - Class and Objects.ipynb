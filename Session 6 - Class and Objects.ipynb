{
 "cells": [
  {
   "cell_type": "code",
   "execution_count": null,
   "metadata": {},
   "outputs": [],
   "source": []
  },
  {
   "cell_type": "code",
   "execution_count": null,
   "metadata": {},
   "outputs": [],
   "source": [
    "class MyNewClass:\n",
    "    '''This is a docstring. I have created a new class'''\n",
    "    pass\n",
    "\n",
    "\n",
    "class MyClass:\n",
    "\t\"This is my second class\"\n",
    "\ta = 10\n",
    "\tdef func(self):\n",
    "\t\tprint('Hello')\n",
    "\n",
    "# Output: 10\n",
    "print(MyClass.a)\n",
    "\n",
    "# Output: <function MyClass.func at 0x0000000003079BF8>\n",
    "print(MyClass.func)\n",
    "\n",
    "# Output: 'This is my second class'\n",
    "print(MyClass.__doc__)\n",
    "\n",
    "\n",
    "\n",
    "\n",
    "\n",
    "\n",
    "\n",
    "class MyClass:\n",
    "\t\"This is my second class\"\n",
    "\ta = 10\n",
    "\tdef func(self):\n",
    "\t\tprint('Hello')\n",
    "\n",
    "# create a new MyClass\n",
    "ob = MyClass()\n",
    "\n",
    "# Output: <function MyClass.func at 0x000000000335B0D0>\n",
    "print(MyClass.func)\n",
    "\n",
    "# Output: <bound method MyClass.func of <__main__.MyClass object at 0x000000000332DEF0>>\n",
    "print(ob.func)\n",
    "\n",
    "# Calling function func()\n",
    "# Output: Hello\n",
    "ob.func()"
   ]
  },
  {
   "cell_type": "code",
   "execution_count": null,
   "metadata": {},
   "outputs": [],
   "source": [
    "class ComplexNumber:\n",
    "    def __init__(self,r = 0,i = 0):\n",
    "        self.real = r\n",
    "        self.imag = i\n",
    "\n",
    "    def getData(self):\n",
    "        print(\"{0}+{1}j\".format(self.real,self.imag))\n",
    "\n",
    "# Create a new ComplexNumber object\n",
    "c1 = ComplexNumber(2,3)\n",
    "\n",
    "# Call getData() function\n",
    "# Output: 2+3j\n",
    "c1.getData()\n",
    "\n",
    "\n",
    "# Create another ComplexNumber object\n",
    "# and create a new attribute 'attr'\n",
    "c2 = ComplexNumber(5)\n",
    "c2.attr = 10\n",
    "\n",
    "# Output: (5, 0, 10)\n",
    "print((c2.real, c2.imag, c2.attr))\n",
    "\n",
    "# but c1 object doesn't have attribute 'attr'\n",
    "# AttributeError: 'ComplexNumber' object has no attribute 'attr'\n",
    "c1.attr\n"
   ]
  },
  {
   "cell_type": "code",
   "execution_count": null,
   "metadata": {},
   "outputs": [],
   "source": [
    "class Dog:\n",
    "\n",
    "    kind = 'canine'         # class variable shared by all instances\n",
    "\n",
    "    def __init__(self, name):\n",
    "        self.name = name    # instance variable unique to each instance\n",
    "\n",
    "d = Dog('Fido')\n",
    "e = Dog('Buddy')\n",
    "d.kind                  # shared by all dogs\n",
    "\n",
    "e.kind                  # shared by all dogs\n",
    "\n",
    "d.name                  # unique to d\n",
    "\n",
    "e.name                  # unique to e\n"
   ]
  },
  {
   "cell_type": "code",
   "execution_count": null,
   "metadata": {},
   "outputs": [],
   "source": [
    "class Dog:\n",
    "\n",
    "    def __init__(self, name):\n",
    "        self.name = name\n",
    "        self.tricks = []    # creates a new empty list for each dog\n",
    "\n",
    "    def add_trick(self, trick):\n",
    "        self.tricks.append(trick)\n",
    "        d = Dog('Fido')\n",
    "        e = Dog('Buddy')\n",
    "        d.add_trick('roll over')\n",
    "        e.add_trick('play dead')\n",
    "        d.tricks\n",
    "#['roll over']\n",
    "        e.tricks\n",
    "#['play dead']"
   ]
  },
  {
   "cell_type": "code",
   "execution_count": null,
   "metadata": {},
   "outputs": [],
   "source": [
    "\n",
    "\n",
    "    The getattr(obj, name[, default]) − to access the attribute of object.\n",
    "\n",
    "    The hasattr(obj,name) − to check if an attribute exists or not.\n",
    "\n",
    "    The setattr(obj,name,value) − to set an attribute. If attribute does not exist, then it would be created.\n",
    "\n",
    "    The delattr(obj, name) − to delete an attribute.\n"
   ]
  },
  {
   "cell_type": "code",
   "execution_count": null,
   "metadata": {},
   "outputs": [],
   "source": [
    "Built-In Class Attributes\n",
    "\n",
    "Every Python class keeps following built-in attributes and they can be accessed using dot operator like any other attribute −\n",
    "\n",
    "    __dict__ − Dictionary containing the class's namespace.\n",
    "\n",
    "    __doc__ − Class documentation string or none, if undefined.\n",
    "\n",
    "    __name__ − Class name.\n",
    "\n",
    "    __module__ − Module name in which the class is defined. This attribute is \"__main__\" in interactive mode.\n",
    "\n",
    "    __bases__ − A possibly empty tuple containing the base classes, in the order of their occurrence in the base class list.\n"
   ]
  },
  {
   "cell_type": "code",
   "execution_count": 13,
   "metadata": {},
   "outputs": [
    {
     "name": "stdout",
     "output_type": "stream",
     "text": [
      "Employee.__doc__: Common base class for all employees\n",
      "Employee.__name__: Employee\n",
      "Employee.__module__: __main__\n",
      "Employee.__bases__: (<class 'object'>,)\n",
      "Employee.__dict__: {'__module__': '__main__', '__doc__': 'Common base class for all employees', 'empCount': 0, '__init__': <function Employee.__init__ at 0x7fcb5ac7b5f0>, 'displayCount': <function Employee.displayCount at 0x7fcb5ac7b3b0>, 'displayEmployee': <function Employee.displayEmployee at 0x7fcb5ac7bdd0>, '__dict__': <attribute '__dict__' of 'Employee' objects>, '__weakref__': <attribute '__weakref__' of 'Employee' objects>}\n"
     ]
    }
   ],
   "source": [
    "class Employee:\n",
    "    'Common base class for all employees'\n",
    "    empCount = 0\n",
    "\n",
    "    def __init__(self, name, salary):\n",
    "        self.name = name\n",
    "        self.salary = salary\n",
    "        Employee.empCount += 1\n",
    "   \n",
    "    def displayCount(self):\n",
    "        print (\"Total Employee %d\" % Employee.empCount)\n",
    "\n",
    "    def displayEmployee(self):\n",
    "        print (\"Name : \", self.name,  \", Salary: \", self.salary)\n",
    "\n",
    "print (\"Employee.__doc__:\", Employee.__doc__)\n",
    "print( \"Employee.__name__:\", Employee.__name__)\n",
    "print (\"Employee.__module__:\", Employee.__module__)\n",
    "print (\"Employee.__bases__:\", Employee.__bases__)\n",
    "print (\"Employee.__dict__:\", Employee.__dict__)"
   ]
  },
  {
   "cell_type": "code",
   "execution_count": null,
   "metadata": {},
   "outputs": [],
   "source": [
    "# Inheritance\n",
    "\n",
    "class SubClassName (ParentClass1[, ParentClass2, ...]):\n",
    "   'Optional class documentation string'\n",
    "   class_suite\n",
    "    \n",
    "class Parent:        # define parent class\n",
    "   parentAttr = 100\n",
    "    def __init__(self):\n",
    "      print \"Calling parent constructor\"\n",
    "\n",
    "     def parentMethod(self):\n",
    "      print 'Calling parent method'\n",
    "\n",
    "    def setAttr(self, attr):\n",
    "      Parent.parentAttr = attr\n",
    "\n",
    "    def getAttr(self):\n",
    "      print \"Parent attribute :\", Parent.parentAttr\n",
    "\n",
    "class Child(Parent): # define child class\n",
    "    def __init__(self):\n",
    "      print \"Calling child constructor\"\n",
    "\n",
    "    def childMethod(self):\n",
    "      print 'Calling child method'\n",
    "\n",
    "c = Child()          # instance of child\n",
    "c.childMethod()      # child calls its method\n",
    "c.parentMethod()     # calls parent's method\n",
    "c.setAttr(200)       # again call parent's method\n",
    "c.getAttr()          # again call parent's method"
   ]
  },
  {
   "cell_type": "code",
   "execution_count": null,
   "metadata": {},
   "outputs": [],
   "source": [
    "class A:        # define your class A\n",
    ".....\n",
    "\n",
    "class B:         # define your class B\n",
    ".....\n",
    "\n",
    "\n",
    "class C(A, B):   # subclass of A and B\n",
    ".....\n",
    "\n",
    "\n",
    "\n",
    "The issubclass(sub, sup) boolean function returns true\n",
    "if the given subclass sub is indeed a subclass of the superclass sup.\n",
    "\n",
    "The isinstance(obj, Class) boolean function returns true \n",
    "if obj is an instance of class Class or is an instance of a subclass of Class\n"
   ]
  },
  {
   "cell_type": "code",
   "execution_count": null,
   "metadata": {},
   "outputs": [],
   "source": [
    "# Overriding\n",
    "\n",
    "class Parent:        # define parent class\n",
    "   def myMethod(self):\n",
    "      print 'Calling parent method'\n",
    "\n",
    "class Child(Parent): # define child class\n",
    "   def myMethod(self):\n",
    "      print 'Calling child method'\n",
    "\n",
    "c = Child()          # instance of child\n",
    "c.myMethod()         # child calls overridden method\n",
    "Parent.myMethod()\n"
   ]
  },
  {
   "cell_type": "code",
   "execution_count": null,
   "metadata": {},
   "outputs": [],
   "source": [
    "Overloading Predefined methods :\n",
    "    \n",
    "    1 \t\n",
    "\n",
    "__init__ ( self [,args...] )\n",
    "\n",
    "Constructor (with any optional arguments)\n",
    "\n",
    "Sample Call : obj = className(args)\n",
    "2 \t\n",
    "\n",
    "__del__( self )\n",
    "\n",
    "Destructor, deletes an object\n",
    "\n",
    "Sample Call : del obj\n",
    "3 \t\n",
    "\n",
    "__repr__( self )\n",
    "\n",
    "Evaluable string representation\n",
    "\n",
    "Sample Call : repr(obj)\n",
    "4 \t\n",
    "\n",
    "__str__( self )\n",
    "\n",
    "Printable string representation\n",
    "\n",
    "Sample Call : str(obj)\n",
    "5 \t\n",
    "\n",
    "__cmp__ ( self, x )\n",
    "\n",
    "Object comparison\n",
    "\n",
    "Sample Call : cmp(obj, x)"
   ]
  },
  {
   "cell_type": "code",
   "execution_count": null,
   "metadata": {},
   "outputs": [],
   "source": [
    "\n",
    "class Vector:\n",
    "    def __init__(self, a, b):\n",
    "      self.a = a\n",
    "      self.b = b\n",
    "\n",
    "    def __str__(self):\n",
    "      return 'Vector (%d, %d)' % (self.a, self.b)\n",
    "   \n",
    "    def __add__(self,other):\n",
    "      return Vector(self.a + other.a, self.b + other.b)\n",
    "\n",
    "v1 = Vector(2,10)\n",
    "v2 = Vector(5,-2)\n",
    "print v1 + v2\n",
    "\n",
    "v1.add(v2)"
   ]
  },
  {
   "cell_type": "code",
   "execution_count": null,
   "metadata": {},
   "outputs": [],
   "source": [
    "\n",
    "class Time60(object):            \n",
    "    def __init__(self, hr, min): \n",
    "        self.hr = hr             # w  ww . ja va  2 s  . com\n",
    "        self.min = min           \n",
    "    def __str__(self):\n",
    "        return '%d:%d' % (self.hr, self.min)\n",
    "\n",
    "mon = Time60(10, 30)\n",
    "tue = Time60(11, 15)\n",
    "\n",
    "print mon, tue"
   ]
  },
  {
   "cell_type": "code",
   "execution_count": null,
   "metadata": {},
   "outputs": [],
   "source": [
    "#An example of a class\n",
    "class Shape:\n",
    "    '''self is a reference to current instance of a class'''\n",
    "    class_var=\"Im a class\" #data member\n",
    "    def __init__(self,x,y):#run as soon as an object of a class is instantiated\n",
    "        self.x = x\n",
    "        self.y = y\n",
    "    description = \"This shape has not been described yet\"\n",
    "    author = \"Nobody has claimed to make this shape yet\"\n",
    "    def sample(self):#methods\n",
    "        instance_variable=\"in function\"#data member\n",
    "    def area(self):\n",
    "        return self.x * self.y\n",
    "    def perimeter(self):\n",
    "        return 2 * self.x + 2 * self.y\n",
    "    def describe(self,text):\n",
    "        self.description = text\n",
    "        print (self.description)\n",
    "    def authorName(self,text):\n",
    "        self.author = text\n",
    "    def scaleSize(self,scale):\n",
    "        self.x = self.x * scale\n",
    "        self.y = self.y * scale"
   ]
  },
  {
   "cell_type": "code",
   "execution_count": null,
   "metadata": {},
   "outputs": [],
   "source": []
  },
  {
   "cell_type": "code",
   "execution_count": null,
   "metadata": {},
   "outputs": [],
   "source": [
    "#Using a class by creating an instance object\n",
    "rectangle = Shape(100,45)\n",
    "#sample=Shape(2,34)"
   ]
  },
  {
   "cell_type": "code",
   "execution_count": null,
   "metadata": {},
   "outputs": [],
   "source": [
    "                    #accessing attributes from outside an instance\n",
    "#finding the area of your rectangle:\n",
    "print (\"area of rectangle\",rectangle.area())#no need to include 'self' while calling a method\n",
    "\n",
    "#finding the perimeter of your rectangle:\n",
    "print (\"perimeter\",rectangle.perimeter())\n",
    "\n",
    "#describing the rectangle\n",
    "rectangle.describe(\"A wide rectangle, more than twice\\\n",
    " as wide as it is tall\")\n",
    "\n",
    "#making the rectangle 50% smaller\n",
    "rectangle.scaleSize(.5)\n",
    "\n",
    "#re-printing the new area of the rectangle\n",
    "print (\"area after scaling\",rectangle.area())\n",
    "\n",
    "print (rectangle.__dict__)\n",
    "print (rectangle.__doc__)\n",
    "print (Shape.__name__)\n",
    "print (rectangle.__module__)"
   ]
  },
  {
   "cell_type": "markdown",
   "metadata": {
    "collapsed": true
   },
   "source": [
    "# Your Turn\n",
    "Write a class for employee which gets the DA,HRA and Basic pay to calculate the salary,Create object for two employess to calculate the gross pay"
   ]
  },
  {
   "cell_type": "markdown",
   "metadata": {
    "collapsed": true
   },
   "source": [
    "# Class Descriptor"
   ]
  },
  {
   "cell_type": "code",
   "execution_count": null,
   "metadata": {},
   "outputs": [],
   "source": [
    "class Publisher(object):\n",
    "    def __init__(self, name):\n",
    "        self.__name = name\n",
    "\n",
    "    def get_name(self):\n",
    "        print(\"getting name\")\n",
    "        return self.__name\n",
    "\n",
    "    def set_name(self, value):\n",
    "        print(\"setting name\")\n",
    "        self.__name = value\n",
    "\n",
    "    def delete_name(self):\n",
    "        print(\"deleting name\")\n",
    "        del self.__name\n",
    "\n",
    "    name = property(get_name, set_name, delete_name, \"Publisher name\")"
   ]
  },
  {
   "cell_type": "code",
   "execution_count": null,
   "metadata": {},
   "outputs": [],
   "source": [
    " p = Publisher(\"Faber & Faber\")\n"
   ]
  },
  {
   "cell_type": "code",
   "execution_count": null,
   "metadata": {},
   "outputs": [],
   "source": [
    " p.name\n"
   ]
  },
  {
   "cell_type": "code",
   "execution_count": null,
   "metadata": {},
   "outputs": [],
   "source": [
    "\n",
    "p.name = \"Random House\"\n"
   ]
  },
  {
   "cell_type": "code",
   "execution_count": null,
   "metadata": {},
   "outputs": [],
   "source": [
    "\n",
    "del p.name\n"
   ]
  },
  {
   "cell_type": "markdown",
   "metadata": {},
   "source": [
    "# Factory Method"
   ]
  },
  {
   "cell_type": "code",
   "execution_count": 1,
   "metadata": {
    "scrolled": true
   },
   "outputs": [
    {
     "name": "stdout",
     "output_type": "stream",
     "text": [
      "Van driving.\n"
     ]
    }
   ],
   "source": [
    "class Car():\n",
    "    @staticmethod\n",
    "    def factor(type):\n",
    "        if type == \"Racecar\": \n",
    "            return Racecar()\n",
    "        if type == \"Van\": \n",
    "            return Van()\n",
    "        assert 0, \"Bad car creation: \" + type\n",
    " \n",
    "        factory = staticmethod(factory)\n",
    " \n",
    "class Racecar(Car):\n",
    "    def drive(self): print(\"Racecar driving.\")\n",
    " \n",
    "class Van(Car):\n",
    "    def drive(self): print(\"Van driving.\")\n",
    " \n",
    "# Create object using factory.\n",
    "obj = Car.factor(\"Van\")\n",
    "obj.drive()"
   ]
  },
  {
   "cell_type": "markdown",
   "metadata": {},
   "source": [
    "# Class Instance"
   ]
  },
  {
   "cell_type": "code",
   "execution_count": null,
   "metadata": {},
   "outputs": [],
   "source": [
    "class A:\n",
    "    a = \"I am a class attribute!\" \n",
    "    def fun(self):\n",
    "        self.b=\"instance variable\"\n"
   ]
  },
  {
   "cell_type": "code",
   "execution_count": null,
   "metadata": {},
   "outputs": [],
   "source": [
    "x = A()\n",
    "y = A()\n",
    "x.a='I am a class attribute!'\n",
    "x.fun()"
   ]
  },
  {
   "cell_type": "code",
   "execution_count": null,
   "metadata": {},
   "outputs": [],
   "source": [
    "y.a\n",
    "y.b"
   ]
  },
  {
   "cell_type": "code",
   "execution_count": null,
   "metadata": {},
   "outputs": [],
   "source": [
    "\n",
    "A.a\n"
   ]
  },
  {
   "cell_type": "markdown",
   "metadata": {},
   "source": [
    "## your turn"
   ]
  },
  {
   "cell_type": "code",
   "execution_count": null,
   "metadata": {},
   "outputs": [],
   "source": [
    "#Create two class PG and UG and get student details and display it \n",
    "#use two member functions get_details and display\n",
    "#use factory method and decide which class to call.  "
   ]
  },
  {
   "cell_type": "markdown",
   "metadata": {},
   "source": [
    "# Inheritance"
   ]
  },
  {
   "cell_type": "code",
   "execution_count": null,
   "metadata": {},
   "outputs": [],
   "source": [
    "class Polygon:\n",
    "    def __init__(self, no_of_sides):\n",
    "        self.n = no_of_sides\n",
    "        self.sides = [0 for i in range(no_of_sides)]\n",
    "\n",
    "    def inputSides(self):\n",
    "        self.sides = [float(input(\"Enter side \"+str(i+1)+\" : \")) for i in range(self.n)]\n",
    "\n",
    "    def dispSides(self):\n",
    "        for i in range(self.n):\n",
    "            print(\"Side\",i+1,\"is\",self.sides[i])\n",
    "            \n",
    "    def fn()\n",
    "        print(\"hi\")"
   ]
  },
  {
   "cell_type": "code",
   "execution_count": null,
   "metadata": {},
   "outputs": [],
   "source": [
    "class Triangle(Polygon):\n",
    "    def __init__(self):\n",
    "        Polygon.__init__(self,3)\n",
    "\n",
    "    def findArea(self):\n",
    "        a, b, c = self.sides\n",
    "        # calculate the semi-perimeter\n",
    "        s = (a + b + c) / 2\n",
    "        area = (float)(s*(s-a)*(s-b)*(s-c)) ** 0.5\n",
    "        #area=(1/2)*\n",
    "        print('The area of the triangle is %0.2f' %area)"
   ]
  },
  {
   "cell_type": "code",
   "execution_count": null,
   "metadata": {},
   "outputs": [],
   "source": [
    "t = Triangle()\n",
    "print (Triangle.__bases__)"
   ]
  },
  {
   "cell_type": "code",
   "execution_count": null,
   "metadata": {},
   "outputs": [],
   "source": [
    " t.inputSides()\n",
    " Polygon.inputSides()"
   ]
  },
  {
   "cell_type": "code",
   "execution_count": null,
   "metadata": {},
   "outputs": [],
   "source": [
    "t.dispSides()"
   ]
  },
  {
   "cell_type": "code",
   "execution_count": null,
   "metadata": {},
   "outputs": [],
   "source": [
    "t.findArea()"
   ]
  },
  {
   "cell_type": "code",
   "execution_count": null,
   "metadata": {},
   "outputs": [],
   "source": [
    "issubclass(Polygon,Triangle)"
   ]
  },
  {
   "cell_type": "code",
   "execution_count": null,
   "metadata": {},
   "outputs": [],
   "source": [
    "issubclass(Triangle,Polygon)"
   ]
  },
  {
   "cell_type": "code",
   "execution_count": null,
   "metadata": {},
   "outputs": [],
   "source": [
    "isinstance(t,Polygon)"
   ]
  },
  {
   "cell_type": "code",
   "execution_count": null,
   "metadata": {},
   "outputs": [],
   "source": [
    "class Student:\n",
    "\n",
    "    studentCount = 0\n",
    "    \n",
    "    def __init__(self,name,age,dept):\n",
    "        self.name = name\n",
    "        self.age = age\n",
    "        self.dept = dept\n",
    "        self.__class__.studentCount +=1\n",
    "\n",
    "    def displayDetails(self):\n",
    "        print (\"Stud_count value\",self.__class__.studentCount)\n",
    "        print(\"\\nName of the student is :\",self.name)\n",
    "        print(\"\\nAge of the student is :\",self.age)\n",
    "        print(\"\\nDept of the student is :\",self.dept)\n",
    "\n",
    "class CsStudent(Student):\n",
    "    def __init__(self,name,age,dept,section):\n",
    "        Student.__init__(self,name,age,dept)\n",
    "        self.section = section\n",
    "\n",
    "    def displayDetails(self):\n",
    "        \n",
    "        print(\"Calling parent version...\\n\")\n",
    "        Student.displayDetails(self)\n",
    "        \n",
    "        print(\"The child version...\\n\")\n",
    "        print(\"\\nName of the CSE student is :\",self.name)\n",
    "        print(\"\\nAge of the CSE student is :\",self.age)\n",
    "        print(\"\\nDept of the CSE student is :\",self.dept)\n",
    "        print(\"\\nSecnion of the CSE student is :\",self.section)"
   ]
  },
  {
   "cell_type": "code",
   "execution_count": null,
   "metadata": {},
   "outputs": [],
   "source": [
    "st1 = Student(\"Karthi\",18,\"IT\")\n",
    "st2 = Student(\"Ramani\",19,\"CSE\")\n",
    "st3 = Student(\"Vijula\",22,\"TCE\")\n",
    "st1.displayDetails()\n",
    "st2.displayDetails()\n",
    "st3.displayDetails()"
   ]
  },
  {
   "cell_type": "code",
   "execution_count": null,
   "metadata": {},
   "outputs": [],
   "source": [
    "print(\"\\nThe total number of instances created so far for student is/are :\",Student.studentCount)\n",
    "print(\"\\n\",st1.__class__.studentCount)\n",
    "print(\"\\n\",st1.studentCount)"
   ]
  },
  {
   "cell_type": "code",
   "execution_count": null,
   "metadata": {},
   "outputs": [],
   "source": [
    "cst1 = CsStudent(\"Sanmathi\",18,\"CSE\",\"K\")\n",
    "cst2 = CsStudent(\"Saindhavi\",19,\"CSE\",\"F\")\n",
    "cst3 = CsStudent(\"Pushpa\",22,\"CSE\", \"I\")\n"
   ]
  },
  {
   "cell_type": "code",
   "execution_count": null,
   "metadata": {},
   "outputs": [],
   "source": [
    "cst1.displayDetails()\n",
    "cst2.displayDetails()\n",
    "cst3.displayDetails()"
   ]
  },
  {
   "cell_type": "code",
   "execution_count": null,
   "metadata": {},
   "outputs": [],
   "source": [
    "print(\"\\nThe total number of instances created so far for CSE student is/are :\",Student.studentCount)\n",
    "print(\"\\n\",cst1.__class__.studentCount)\n",
    "print(\"\\n\",cst1.studentCount)\n",
    "print(isinstance(st1,CsStudent))"
   ]
  },
  {
   "cell_type": "code",
   "execution_count": null,
   "metadata": {},
   "outputs": [],
   "source": [
    "\"\"\"This program demonstrates the operator overloading \"\"\"\n",
    "class Point:\n",
    "    def __init__(self,x,y):\n",
    "        self.x = x\n",
    "        self.y = y\n",
    "    def __add__(self,other):\n",
    "        \n",
    "        new_x = self.x + other.x\n",
    "        new_y = self.y + other.y\n",
    "        p=Point(new_x,new_y)\n",
    "        return (p)\n",
    "p1 = Point(3,4)\n",
    "p2 = Point(8,9)\n",
    "p3 =p1+p2\n",
    "print(p3.x)"
   ]
  },
  {
   "cell_type": "code",
   "execution_count": null,
   "metadata": {},
   "outputs": [],
   "source": [
    "#refer chapter 29 for operator overloading in ref book 1\n",
    "class Indexer:\n",
    "    def __getitem__(self, index):\n",
    "        return index ** 2\n",
    "X = Indexer()\n",
    "X[2]  # X[i] calls X.__getitem__(i)"
   ]
  },
  {
   "cell_type": "code",
   "execution_count": null,
   "metadata": {},
   "outputs": [],
   "source": [
    "class Indexer:\n",
    "    data = [5, 6, 7, 8, 9]\n",
    "    def __getitem__(self, index):  # Called for index or slice\n",
    "        print('getitem:', index)\n",
    "        return self.data[index]  # Perform index or slice\n",
    "X = Indexer()\n",
    "l=X[2:4]  # Slicing sends __getitem__ a slice object\n",
    "print(\"return value\",l)\n"
   ]
  },
  {
   "cell_type": "code",
   "execution_count": null,
   "metadata": {},
   "outputs": [],
   "source": [
    "class Human:\n",
    " \n",
    "    def sayHello(self, name=None):\n",
    " \n",
    "        if name :\n",
    "            print ('Hello ' + name)\n",
    "        else:\n",
    "            print ('Hello ')\n",
    " \n",
    "\n",
    "obj = Human()\n",
    " \n",
    "# Call the method\n",
    "obj.sayHello()\n",
    " \n",
    "# Call the method with a parameter\n",
    "obj.sayHello('Guido')"
   ]
  },
  {
   "cell_type": "code",
   "execution_count": null,
   "metadata": {},
   "outputs": [],
   "source": [
    "#refer ppt and chapter 22 in reference book 1 \n",
    "class Student:\n",
    " def __init__(self,name,rn):\n",
    "    self.name = name\n",
    "    self.rn = rn\n",
    " \n",
    " def disp(self):\n",
    "    print(self.name)\n",
    "    print(self.rn)\n",
    "\n",
    "ob2 = Student(\"test\",123)\n",
    "ob2.disp()\n"
   ]
  },
  {
   "cell_type": "code",
   "execution_count": 1,
   "metadata": {},
   "outputs": [
    {
     "name": "stdout",
     "output_type": "stream",
     "text": [
      "10\n",
      "<function MyClass.func at 0x7fcb5abee290>\n",
      "This is my second class\n"
     ]
    }
   ],
   "source": [
    "class MyClass:\n",
    "\t\"This is my second class\"\n",
    "\ta = 10\n",
    "\tdef func(self):\n",
    "\t\tprint('Hello')\n",
    "\n",
    "# Output: 10\n",
    "print(MyClass.a)\n",
    "\n",
    "# Output: <function MyClass.func at 0x0000000003079BF8>\n",
    "print(MyClass.func)\n",
    "\n",
    "# Output: 'This is my second class'\n",
    "print(MyClass.__doc__)"
   ]
  },
  {
   "cell_type": "code",
   "execution_count": 5,
   "metadata": {},
   "outputs": [
    {
     "name": "stdout",
     "output_type": "stream",
     "text": [
      "<function MyClass.func at 0x7fcb5ac7b440>\n",
      "<bound method MyClass.func of <__main__.MyClass object at 0x7fcb5a9d28d0>>\n",
      "Hello\n",
      "None\n"
     ]
    }
   ],
   "source": [
    "class MyClass:\n",
    "\t\"This is my second class\"\n",
    "\ta = 10\n",
    "\tdef func(self):\n",
    "\t\tprint('Hello')\n",
    "\n",
    "# create a new MyClass\n",
    "ob = MyClass()\n",
    "\n",
    "# Output: <function MyClass.func at 0x000000000335B0D0>\n",
    "print(MyClass.func)\n",
    "\n",
    "# Output: <bound method MyClass.func of <__main__.MyClass object at 0x000000000332DEF0>>\n",
    "print(ob.func)\n",
    "\n",
    "# Calling function func()\n",
    "# Output: Hello\n",
    "print(ob.func())"
   ]
  },
  {
   "cell_type": "code",
   "execution_count": null,
   "metadata": {},
   "outputs": [],
   "source": []
  }
 ],
 "metadata": {
  "anaconda-cloud": {},
  "kernelspec": {
   "display_name": "Python 3 (ipykernel)",
   "language": "python",
   "name": "python3"
  },
  "language_info": {
   "codemirror_mode": {
    "name": "ipython",
    "version": 3
   },
   "file_extension": ".py",
   "mimetype": "text/x-python",
   "name": "python",
   "nbconvert_exporter": "python",
   "pygments_lexer": "ipython3",
   "version": "3.9.7"
  }
 },
 "nbformat": 4,
 "nbformat_minor": 1
}
