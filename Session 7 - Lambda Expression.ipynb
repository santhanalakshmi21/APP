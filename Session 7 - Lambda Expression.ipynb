{
 "cells": [
  {
   "cell_type": "markdown",
   "metadata": {},
   "source": [
    "# Explain what happens in the below code"
   ]
  },
  {
   "cell_type": "code",
   "execution_count": 1,
   "metadata": {},
   "outputs": [
    {
     "name": "stdout",
     "output_type": "stream",
     "text": [
      "[1, 9, 4]\n"
     ]
    }
   ],
   "source": [
    "#IIFE\n",
    "\n",
    "def f(x):\n",
    "    return x * x\n",
    "\n",
    "def modify_list(L, fn):\n",
    "    for idx, v in enumerate(L):\n",
    "        L[idx] = fn(v)\n",
    "\n",
    "L = [1, 3, 2]\n",
    "modify_list(L, f)\n",
    "print(L)"
   ]
  },
  {
   "cell_type": "code",
   "execution_count": null,
   "metadata": {},
   "outputs": [],
   "source": []
  },
  {
   "cell_type": "code",
   "execution_count": null,
   "metadata": {},
   "outputs": [],
   "source": [
    "Syntax :\n",
    "\n",
    "# Syntax 1\n",
    "    \n",
    "lambda arg1, arg2... : expression\n",
    "\n",
    "#Syntax 2\n",
    "\n",
    "Func_name= lambda arg1, arg2... : expression\n",
    "\n",
    "# Function call\n",
    "\n",
    "Func_name()\n",
    "\n",
    "\n",
    "#def keyword is used to define the normal functions and \n",
    "#the lambda keyword is used to create anonymous functions."
   ]
  },
  {
   "cell_type": "code",
   "execution_count": 2,
   "metadata": {},
   "outputs": [
    {
     "data": {
      "text/plain": [
       "16"
      ]
     },
     "execution_count": 2,
     "metadata": {},
     "output_type": "execute_result"
    }
   ],
   "source": [
    "square = lambda x : x * x \n",
    "#print(square)\n",
    "\n",
    "square(4)"
   ]
  },
  {
   "cell_type": "code",
   "execution_count": 4,
   "metadata": {},
   "outputs": [
    {
     "name": "stdout",
     "output_type": "stream",
     "text": [
      "30\n"
     ]
    }
   ],
   "source": [
    "# Lambda with Multiple Arguments\n",
    "\n",
    "sum = lambda x, y, z : x + y + z\n",
    "k = sum(5, 10, 15)\n",
    "print(k)"
   ]
  },
  {
   "cell_type": "code",
   "execution_count": null,
   "metadata": {},
   "outputs": [],
   "source": [
    "# Lambda function enclosed with an paranthesis -- stated by passing an argument value\n",
    "(lambda z: z + 1)(5)"
   ]
  },
  {
   "cell_type": "code",
   "execution_count": 1,
   "metadata": {},
   "outputs": [
    {
     "name": "stdout",
     "output_type": "stream",
     "text": [
      "Output: Hello World!\n"
     ]
    }
   ],
   "source": [
    "# lambda with print as expression\n",
    "disp = lambda str: print('Output: ' + str)\n",
    "disp(\"Hello World!\")\n"
   ]
  },
  {
   "cell_type": "code",
   "execution_count": 9,
   "metadata": {},
   "outputs": [
    {
     "data": {
      "text/plain": [
       "'The full name is Alex Pandian'"
      ]
     },
     "execution_count": 9,
     "metadata": {},
     "output_type": "execute_result"
    }
   ],
   "source": [
    "demo = lambda first, last: f'The full name is {first.title()} {last.title()}'\n",
    "\n",
    "demo('Alex', 'Pandian')"
   ]
  },
  {
   "cell_type": "code",
   "execution_count": 1,
   "metadata": {},
   "outputs": [
    {
     "data": {
      "text/plain": [
       "12"
      ]
     },
     "execution_count": 1,
     "metadata": {},
     "output_type": "execute_result"
    }
   ],
   "source": [
    "# higher order Function \n",
    "\n",
    "hof = lambda x, f1: x + f1(x)\n",
    "\n",
    "hof(3, lambda x: x * x)\n",
    "\n",
    "\n",
    "#hof(3, lambda x: x + 3)\n",
    "\n",
    "# f1 holds another function"
   ]
  },
  {
   "cell_type": "code",
   "execution_count": null,
   "metadata": {},
   "outputs": [],
   "source": [
    "#Normal function \n",
    "def cube(y): \n",
    "    return y*y*y; \n",
    "\n",
    "# Lambda Function\n",
    "g = lambda x: x*x*x \n",
    "print(g(7)) \n",
    "\n",
    "# Normal Function call\n",
    "  \n",
    "print(cube(5)) "
   ]
  },
  {
   "cell_type": "code",
   "execution_count": 3,
   "metadata": {},
   "outputs": [
    {
     "name": "stdout",
     "output_type": "stream",
     "text": [
      "2   3\n",
      "3   3\n"
     ]
    }
   ],
   "source": [
    "#Function with arguments\n",
    "\n",
    "def func1(a=2,b=3):\n",
    "    print(a,' ',b)\n",
    "    \n",
    "func1()\n",
    "func1(3)"
   ]
  },
  {
   "cell_type": "code",
   "execution_count": null,
   "metadata": {},
   "outputs": [],
   "source": [
    "#Function with arguments\n",
    "\n",
    "o=lambda x,y,z:x+y+z\n",
    "o=lambda x=1,y=2,z=3:x+y+z\n",
    "o()\n",
    "o(4,5,6)\n",
    "o(2,3)\n",
    "o(2)"
   ]
  },
  {
   "cell_type": "code",
   "execution_count": null,
   "metadata": {},
   "outputs": [],
   "source": [
    "Why Lambda\n",
    "\n",
    "# Reason 1 : Difference in function"
   ]
  },
  {
   "cell_type": "code",
   "execution_count": null,
   "metadata": {},
   "outputs": [],
   "source": [
    "import dis\n",
    "\n",
    "\n",
    "sub = lambda a, b: a + b\n",
    "type(sub)\n",
    "\n",
    "\n"
   ]
  },
  {
   "cell_type": "code",
   "execution_count": null,
   "metadata": {},
   "outputs": [],
   "source": [
    "dis.dis(sub)"
   ]
  },
  {
   "cell_type": "code",
   "execution_count": null,
   "metadata": {},
   "outputs": [],
   "source": [
    "import dis\n",
    "\n",
    "def sub(x,y): return a + b\n",
    "\n",
    "type(sub)\n",
    "\n",
    "\n",
    "              \n"
   ]
  },
  {
   "cell_type": "code",
   "execution_count": null,
   "metadata": {},
   "outputs": [],
   "source": [
    "dis.dis(sub)"
   ]
  },
  {
   "cell_type": "code",
   "execution_count": null,
   "metadata": {},
   "outputs": [],
   "source": [
    "# Implementation of FUnction using Lambda\n",
    "\n",
    " (lambda :print(\"Hello\"))()\n",
    "    \n",
    "    \n",
    "z=lambda a=2:print(\"Hello\")\n",
    "z()\n"
   ]
  },
  {
   "cell_type": "code",
   "execution_count": null,
   "metadata": {},
   "outputs": [],
   "source": [
    "f = lambda x, y : x + y\n",
    "f(1,1)\n",
    "# Result : 2"
   ]
  },
  {
   "cell_type": "code",
   "execution_count": null,
   "metadata": {},
   "outputs": [],
   "source": []
  },
  {
   "cell_type": "markdown",
   "metadata": {},
   "source": [
    "# Challenge"
   ]
  },
  {
   "cell_type": "code",
   "execution_count": null,
   "metadata": {},
   "outputs": [],
   "source": [
    "Write a Python program to create a function that takes one argument, \n",
    "and that argument will be multiplied with an unknown given number"
   ]
  },
  {
   "cell_type": "code",
   "execution_count": null,
   "metadata": {},
   "outputs": [],
   "source": [
    "Write a Python program to create a lambda function that adds 15 \n",
    "to a given number passed in as an argument, \n",
    "also create a lambda function that multiplies argument x with argument y and print the result."
   ]
  },
  {
   "cell_type": "code",
   "execution_count": null,
   "metadata": {},
   "outputs": [],
   "source": [
    "How would you write a lambda function add_bangs that adds three exclamation points '!!!' \n",
    "to the end of a string a?\n",
    "    \n",
    "    \n",
    "How would you call add_bangs with the argument 'hello'?\n",
    "\n"
   ]
  },
  {
   "cell_type": "code",
   "execution_count": null,
   "metadata": {},
   "outputs": [],
   "source": [
    "In this exercise, you will use what you know about lambda functions \n",
    "to convert a function that does a simple task into a lambda function.\n",
    "Take a look at this function definition:\n",
    "\n",
    "def echo_word(word1, echo):\n",
    "    \"\"\"Concatenate echo copies of word1.\"\"\"\n",
    "    words = word1 * echo\n",
    "    return words\n",
    "\n",
    "The function echo_word takes 2 parameters: \n",
    "    a string value, word1 and an integer value, echo. \n",
    "    It returns a string that is a concatenation of echo copies of word1. \n",
    "Your task is to convert this simple function into a lambda function."
   ]
  },
  {
   "cell_type": "code",
   "execution_count": null,
   "metadata": {},
   "outputs": [],
   "source": [
    "Instruction 1: Define the lambda function echo_word using the variables word1 and echo. \n",
    "Replicate what the original function definition for echo_word() does above.\n",
    "\n",
    "\n",
    "Instruction 2:\n",
    "    Call echo_word() with the string argument 'hey' and the value 5, in that order. \n",
    "    Assign the call to result.\n"
   ]
  },
  {
   "cell_type": "code",
   "execution_count": null,
   "metadata": {},
   "outputs": [],
   "source": [
    "# Write the solution \n",
    "\n",
    "# Define echo_word as a lambda function: echo_word\n",
    "echo_word = (____)\n",
    "\n",
    "# Call echo_word: result\n",
    "result = ____\n",
    "\n",
    "# Print result\n",
    "print(result)"
   ]
  },
  {
   "cell_type": "code",
   "execution_count": null,
   "metadata": {},
   "outputs": [],
   "source": [
    "Built IN Functions :\n",
    "    1. Map :  r = map(func, seq)\n",
    "    2. Filter : filter(function, list)\n",
    "    3. Reduce : reduce(func, seq) "
   ]
  },
  {
   "cell_type": "markdown",
   "metadata": {},
   "source": [
    "# MAP"
   ]
  },
  {
   "cell_type": "code",
   "execution_count": null,
   "metadata": {},
   "outputs": [],
   "source": [
    "# MAP\n",
    "\n",
    "# Syntax\n",
    "\n",
    "map(function_object, iterable1, iterable2,...)\n",
    "\n",
    "#map functions expect a function object and any number of iterables, such as list, dictionary, etc. \n",
    "#It executes the function_object for each element in the \n",
    "#sequence and returns a list of the elements modified by the function object."
   ]
  },
  {
   "cell_type": "code",
   "execution_count": 12,
   "metadata": {},
   "outputs": [
    {
     "data": {
      "text/plain": [
       "<map at 0x7fb419d28250>"
      ]
     },
     "execution_count": 12,
     "metadata": {},
     "output_type": "execute_result"
    }
   ],
   "source": [
    "# only with map\n",
    "def multiply2(x):\n",
    "  return x * 2\n",
    "    \n",
    "map(multiply2, [1, 2, 3, 4])  \n",
    "list(map(multiply2, [1, 2, 3, 4]) ) "
   ]
  },
  {
   "cell_type": "code",
   "execution_count": null,
   "metadata": {},
   "outputs": [],
   "source": [
    "# MAP AND LAMBDA\n",
    "\n",
    "result=list(map(lambda x : x*2, [1, 2, 3, 4]) )\n",
    "print(result)"
   ]
  },
  {
   "cell_type": "code",
   "execution_count": null,
   "metadata": {},
   "outputs": [],
   "source": [
    "# Map Function More than one list\n",
    "list_a = [1, 2, 3]\n",
    "list_b = [10, 20, 30]\n",
    "  \n",
    "list(map(lambda x, y: x + y, list_a, list_b)) # Output: [11, 22, 33]"
   ]
  },
  {
   "cell_type": "code",
   "execution_count": null,
   "metadata": {},
   "outputs": [],
   "source": [
    "# ITERATION THROUGH DICT USING LAMBDA / MAP\n",
    "\n",
    "dict_a = [{'name': 'python', 'points': 10}, {'name': 'java', 'points': 8}]\n",
    "  \n",
    "#map(lambda x : x['name'], dict_a) # Output: ['python', 'java']\n",
    "  \n",
    "#map(lambda x : x['points']*10,  dict_a) # Output: [100, 80]\n",
    "\n",
    "mapobj=map(lambda x : x['name'] == \"python\", dict_a) # Output: [True, False]\n",
    "print(list(mapobj))"
   ]
  },
  {
   "cell_type": "code",
   "execution_count": null,
   "metadata": {},
   "outputs": [],
   "source": []
  },
  {
   "cell_type": "markdown",
   "metadata": {},
   "source": [
    "# Program Challenge"
   ]
  },
  {
   "cell_type": "code",
   "execution_count": null,
   "metadata": {},
   "outputs": [],
   "source": [
    "Write a Python program to square and cube \n",
    "every number in a given list of integers using Lambda."
   ]
  },
  {
   "cell_type": "code",
   "execution_count": null,
   "metadata": {},
   "outputs": [],
   "source": [
    "# Program without using lambda\n",
    "\n",
    "Write a python program to find the fahrenheit \n",
    "and celsius for the following temperatures recorded in the room using \n",
    "map function ,temp = (36.5, 37, 37.5,39)"
   ]
  },
  {
   "cell_type": "code",
   "execution_count": null,
   "metadata": {},
   "outputs": [],
   "source": []
  },
  {
   "cell_type": "code",
   "execution_count": null,
   "metadata": {},
   "outputs": [],
   "source": [
    "\n",
    "\n",
    "\n",
    "# Solution \n",
    "def fahrenheit(T):\n",
    "    return ((float(9)/5)*T + 32)\n",
    "def celsius(T):\n",
    "    return (float(5)/9)*(T-32)\n",
    "\n",
    "\n",
    "temp = (36.5, 37, 37.5,39)\n",
    "\n",
    "F = map(fahrenheit, temp)\n",
    "C = map(celsius, F)"
   ]
  },
  {
   "cell_type": "code",
   "execution_count": null,
   "metadata": {},
   "outputs": [],
   "source": [
    "Write a python program to find the fahrenheit and celsius for the following temperatures recorded in the room using \n",
    "map/lamda function ,temp = (36.5, 37, 37.5,39)"
   ]
  },
  {
   "cell_type": "code",
   "execution_count": null,
   "metadata": {},
   "outputs": [],
   "source": [
    "\n",
    "\n",
    "\n",
    "# Solution \n",
    "# Program using lambda Expression\n",
    "\n",
    "\n",
    "Celsius = [39.2, 36.5, 37.3, 37.8]\n",
    "\n",
    "Fahrenheit = map(lambda x: (float(9)/5)*x + 32, Celsius)\n",
    "print (Fahrenheit)\n",
    "\n",
    "# Result\n",
    "#[102.56, 97.700000000000003, 99.140000000000001, 100.03999999999999]\n",
    "\n",
    "\n",
    "\n",
    "C = map(lambda x: (float(5)/9)*(x-32), Fahrenheit)\n",
    "print (C)\n",
    "\n",
    "#result\n",
    "#[39.200000000000003, 36.5, 37.300000000000004, 37.799999999999997]\n",
    "\n"
   ]
  },
  {
   "cell_type": "code",
   "execution_count": null,
   "metadata": {},
   "outputs": [],
   "source": [
    "Write a program using map/ lambda to iterate and result the sum of 3 lists\n",
    "\n",
    "a = [1,2,3,4]\n",
    "b = [17,12,11,10]\n",
    "c = [-1,-4,5,9]"
   ]
  },
  {
   "cell_type": "code",
   "execution_count": null,
   "metadata": {},
   "outputs": [],
   "source": [
    "\n",
    "\n",
    "\n",
    "map(lambda x,y:x+y, a,b)\n",
    "# Result : [18, 14, 14, 14]\n",
    "\n",
    "\n",
    "map(lambda x,y,z:x+y+z, a,b,c)\n",
    "# Result : [17, 10, 19, 23]\n",
    "\n",
    "\n",
    "map(lambda x,y,z:x+y-z, a,b,c)\n",
    "# Result : [19, 18, 9, 5]\n"
   ]
  },
  {
   "cell_type": "code",
   "execution_count": null,
   "metadata": {},
   "outputs": [],
   "source": [
    "Goal: given a list of three dimensional points in the form of tuples, \n",
    "    create a new list consisting of the distances of each point from the origin\n",
    "\t\n",
    "Loop Method: \n",
    "\t- distance(x, y, z) = sqrt(x**2 + y**2 + z**2)\n",
    "\t- loop through the list and add results to a new list"
   ]
  },
  {
   "cell_type": "code",
   "execution_count": null,
   "metadata": {},
   "outputs": [],
   "source": [
    "\n"
   ]
  },
  {
   "cell_type": "markdown",
   "metadata": {},
   "source": [
    "# FILTER"
   ]
  },
  {
   "cell_type": "code",
   "execution_count": 13,
   "metadata": {},
   "outputs": [
    {
     "name": "stdout",
     "output_type": "stream",
     "text": [
      "[1, 1, 3, 5, 13, 21, 55]\n",
      "[0, 2, 8, 34]\n"
     ]
    }
   ],
   "source": [
    "# Program with filter \n",
    "\n",
    "fib = [0,1,1,2,3,5,8,13,21,34,55]\n",
    "\n",
    "result = filter(lambda x: x % 2, fib)\n",
    "print (list(result)) \n",
    "\n",
    "# Result : [1, 1, 3, 5, 13, 21, 55]\n",
    "\n",
    "\n",
    "result = filter(lambda x: x % 2 == 0, fib)\n",
    "print (list(result))\n",
    "\n",
    "# Resulst : [0, 2, 8, 34]\n",
    "\n"
   ]
  },
  {
   "cell_type": "code",
   "execution_count": null,
   "metadata": {},
   "outputs": [],
   "source": [
    "# List of dict\n",
    "dict_a = [{'name': 'python', 'points': 10}, {'name': 'java', 'points': 8}]\n",
    "\n",
    "filter(lambda x : x['name'] == 'python', dict_a)"
   ]
  },
  {
   "cell_type": "markdown",
   "metadata": {},
   "source": [
    "# Reduce"
   ]
  },
  {
   "cell_type": "code",
   "execution_count": null,
   "metadata": {},
   "outputs": [],
   "source": [
    "# Program with Filter \n",
    "\n",
    "\n",
    "from functools import reduce\n",
    "\n",
    "reduce(lambda x,y: x+y, [47,11,42,13])\n",
    "# Result : 113\n",
    "\n",
    "\n",
    "f = lambda a,b: a if (a > b) else b\n",
    "reduce(f, [47,11,42,102,13])\n",
    "# Result : 102\n",
    "\n",
    "\n",
    "reduce(lambda x, y: x+y, range(1,101))\n",
    "# Result : 5050\n"
   ]
  },
  {
   "cell_type": "markdown",
   "metadata": {},
   "source": [
    "# Working of MAP REDUCE"
   ]
  },
  {
   "cell_type": "code",
   "execution_count": null,
   "metadata": {},
   "outputs": [],
   "source": [
    "https://www.knowledgehut.com/blog/programming/python-lambda-functions\n",
    "    https://www.geeksforgeeks.org/functional-programming-paradigm/"
   ]
  }
 ],
 "metadata": {
  "kernelspec": {
   "display_name": "Python 3 (ipykernel)",
   "language": "python",
   "name": "python3"
  },
  "language_info": {
   "codemirror_mode": {
    "name": "ipython",
    "version": 3
   },
   "file_extension": ".py",
   "mimetype": "text/x-python",
   "name": "python",
   "nbconvert_exporter": "python",
   "pygments_lexer": "ipython3",
   "version": "3.9.7"
  }
 },
 "nbformat": 4,
 "nbformat_minor": 2
}
